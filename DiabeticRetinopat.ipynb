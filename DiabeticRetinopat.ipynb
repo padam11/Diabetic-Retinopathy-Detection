{
 "cells": [
  {
   "cell_type": "code",
   "execution_count": 3,
   "id": "2b25d28f",
   "metadata": {},
   "outputs": [],
   "source": [
    "import os, shutil\n",
    "\n",
    "original_dataset_dir = 'C:/Users/buchr/Downloads/archive/gaussian_filtered_images/No_DR'\n",
    "base_dir = 'C:/Users/buchr/Downloads/diabetic_retinopathy_small'\n",
    "os.mkdir(base_dir)\n",
    "\n",
    "train_dir = os.path.join(base_dir, 'train')\n",
    "os.mkdir(train_dir)\n",
    "validation_dir = os.path.join(base_dir, 'validation') # create a new directory where we store the pictures and stuff\n",
    "os.mkdir(validation_dir)\n",
    "test_dir = os.path.join(base_dir, 'test')\n",
    "os.mkdir(test_dir)\n",
    "\n",
    "train_normalDR_dir = os.path.join(train_dir, 'normalDR')\n",
    "os.mkdir(train_normalDR_dir)\n",
    "\n",
    "train_moderateDR_dir = os.path.join(train_dir, 'moderateDR') # cat = normalDR, dog = moderateDR\n",
    "os.mkdir(train_moderateDR_dir)\n",
    "\n",
    "validation_normalDR_dir = os.path.join(validation_dir, 'normalDR')\n",
    "os.mkdir(validation_normalDR_dir)\n",
    "\n",
    "validation_moderateDR_dir = os.path.join(validation_dir, 'moderateDR')\n",
    "os.mkdir(validation_moderateDR_dir)\n",
    "\n",
    "test_normalDR_dir = os.path.join(test_dir, 'normalDR')\n",
    "os.mkdir(test_normalDR_dir)\n",
    "\n",
    "test_moderateDR_dir = os.path.join(test_dir, 'moderateDR')\n",
    "os.mkdir(test_moderateDR_dir)\n",
    "\n",
    "fnames = ['{}.normal.png'.format(i) for i in range(1, 800)]\n",
    "for fname in fnames:\n",
    "    src = os.path.join(original_dataset_dir, fname)\n",
    "    dst = os.path.join(train_normalDR_dir, fname)\n",
    "    shutil.copyfile(src, dst)\n",
    "\n",
    "fnames = ['{}.normal.png'.format(i) for i in range(800, 1300)]\n",
    "for fname in fnames:\n",
    "    src = os.path.join(original_dataset_dir, fname)\n",
    "    dst = os.path.join(validation_normalDR_dir, fname)\n",
    "    shutil.copyfile(src, dst)\n",
    "    \n",
    "fnames = ['{}.normal.png'.format(i) for i in range(1300, 1800)]\n",
    "for fname in fnames:\n",
    "    src = os.path.join(original_dataset_dir, fname)\n",
    "    dst = os.path.join(test_normalDR_dir, fname)\n",
    "    shutil.copyfile(src, dst)\n",
    "    \n",
    "fnames = ['{}.moderate.png'.format(i) for i in range(1, 310)]\n",
    "for fname in fnames:\n",
    "    src = os.path.join(original_dataset_dir, fname)\n",
    "    dst = os.path.join(train_moderateDR_dir, fname)\n",
    "    shutil.copyfile(src, dst)\n",
    "\n",
    "fnames = ['{}.moderate.png'.format(i) for i in range(310, 620)] # just not enough, but we'll manage for now with other stuff\n",
    "for fname in fnames:\n",
    "    src = os.path.join(original_dataset_dir, fname)\n",
    "    dst = os.path.join(validation_moderateDR_dir, fname)\n",
    "    shutil.copyfile(src, dst)\n",
    "    \n",
    "fnames = ['{}.moderate.png'.format(i) for i in range (620, 950)]\n",
    "for fname in fnames:\n",
    "    src = os.path.join(original_dataset_dir, fname)\n",
    "    dst = os.path.join(test_moderateDR_dir, fname)\n",
    "    shutil.copyfile(src, dst)"
   ]
  },
  {
   "cell_type": "code",
   "execution_count": 4,
   "id": "af68fe0e",
   "metadata": {},
   "outputs": [],
   "source": [
    "from keras import layers\n",
    "from keras import models\n",
    "\n",
    "model = models.Sequential()\n",
    "model.add(layers.Conv2D(32, (3, 3), activation='relu', input_shape=(150, 150, 3))) #instantiate a covnet for diabetic\n",
    "model.add(layers.MaxPooling2D((2, 2)))\n",
    "model.add(layers.Conv2D(64, (3, 3), activation='relu'))\n",
    "model.add(layers.MaxPooling2D(2, 2))\n",
    "model.add(layers.Conv2D(128, (3, 3), activation='relu'))\n",
    "model.add(layers.MaxPooling2D(2, 2))\n",
    "model.add(layers.Conv2D(128, (3, 3), activation='relu'))\n",
    "model.add(layers.MaxPooling2D((2, 2)))\n",
    "model.add(layers.Flatten())\n",
    "model.add(layers.Dense(512, activation='relu'))\n",
    "model.add(layers.Dense(1, activation='sigmoid'))"
   ]
  },
  {
   "cell_type": "code",
   "execution_count": 5,
   "id": "cc2bfd0f",
   "metadata": {},
   "outputs": [
    {
     "name": "stderr",
     "output_type": "stream",
     "text": [
      "C:\\Users\\buchr\\AppData\\Local\\Packages\\PythonSoftwareFoundation.Python.3.10_qbz5n2kfra8p0\\LocalCache\\local-packages\\Python310\\site-packages\\keras\\optimizers\\optimizer_v2\\rmsprop.py:135: UserWarning: The `lr` argument is deprecated, use `learning_rate` instead.\n",
      "  super(RMSprop, self).__init__(name, **kwargs)\n"
     ]
    }
   ],
   "source": [
    "from keras import optimizers\n",
    "\n",
    "model.compile(loss='binary_crossentropy',\n",
    "              optimizer=optimizers.RMSprop(lr=1e-4),\n",
    "              metrics=['acc'])"
   ]
  },
  {
   "cell_type": "code",
   "execution_count": 12,
   "id": "817868f3",
   "metadata": {},
   "outputs": [
    {
     "name": "stdout",
     "output_type": "stream",
     "text": [
      "Found 1108 images belonging to 2 classes.\n",
      "Found 810 images belonging to 2 classes.\n"
     ]
    }
   ],
   "source": [
    "from keras.preprocessing.image import ImageDataGenerator\n",
    "\n",
    "train_datagen = ImageDataGenerator(rescale=1./255) #start training soon\n",
    "test_datagen = ImageDataGenerator(rescale=1./255)\n",
    "\n",
    "train_generator = train_datagen.flow_from_directory(train_dir,\n",
    "                                                    target_size=(150, 150),\n",
    "                                                    batch_size=10,\n",
    "                                                    class_mode='binary')\n",
    "validation_generator = test_datagen.flow_from_directory(validation_dir,\n",
    "                                                        target_size=(150, 150),\n",
    "                                                        batch_size=10,\n",
    "                                                        class_mode='binary')"
   ]
  },
  {
   "cell_type": "code",
   "execution_count": 7,
   "id": "2471590e",
   "metadata": {},
   "outputs": [
    {
     "name": "stderr",
     "output_type": "stream",
     "text": [
      "ERROR: Invalid requirement: '#'\n"
     ]
    }
   ],
   "source": [
    "import sys\n",
    "!{sys.executable} -m pip install scipy "
   ]
  },
  {
   "cell_type": "code",
   "execution_count": 13,
   "id": "5ad4d307",
   "metadata": {},
   "outputs": [
    {
     "name": "stdout",
     "output_type": "stream",
     "text": [
      "Epoch 1/15\n",
      "90/90 [==============================] - 16s 181ms/step - loss: 0.1732 - acc: 0.9298 - val_loss: 0.1901 - val_acc: 0.9240\n",
      "Epoch 2/15\n",
      "90/90 [==============================] - 16s 179ms/step - loss: 0.1633 - acc: 0.9410 - val_loss: 0.1944 - val_acc: 0.9280\n",
      "Epoch 3/15\n",
      "90/90 [==============================] - 16s 183ms/step - loss: 0.1650 - acc: 0.9400 - val_loss: 0.1763 - val_acc: 0.9340\n",
      "Epoch 4/15\n",
      "90/90 [==============================] - 17s 184ms/step - loss: 0.1612 - acc: 0.9467 - val_loss: 0.1404 - val_acc: 0.9360\n",
      "Epoch 5/15\n",
      "90/90 [==============================] - 17s 184ms/step - loss: 0.1257 - acc: 0.9521 - val_loss: 0.1739 - val_acc: 0.9400\n",
      "Epoch 6/15\n",
      "90/90 [==============================] - 17s 184ms/step - loss: 0.1255 - acc: 0.9543 - val_loss: 0.2022 - val_acc: 0.9280\n",
      "Epoch 7/15\n",
      "90/90 [==============================] - 17s 183ms/step - loss: 0.1277 - acc: 0.9555 - val_loss: 0.1874 - val_acc: 0.9300\n",
      "Epoch 8/15\n",
      "90/90 [==============================] - 17s 187ms/step - loss: 0.1093 - acc: 0.9610 - val_loss: 0.2330 - val_acc: 0.9320\n",
      "Epoch 9/15\n",
      "90/90 [==============================] - 17s 185ms/step - loss: 0.1160 - acc: 0.9644 - val_loss: 0.1412 - val_acc: 0.9460\n",
      "Epoch 10/15\n",
      "90/90 [==============================] - 17s 185ms/step - loss: 0.1052 - acc: 0.9688 - val_loss: 0.1609 - val_acc: 0.9420\n",
      "Epoch 11/15\n",
      "90/90 [==============================] - 17s 183ms/step - loss: 0.0881 - acc: 0.9655 - val_loss: 0.2282 - val_acc: 0.9340\n",
      "Epoch 12/15\n",
      "90/90 [==============================] - 17s 185ms/step - loss: 0.0803 - acc: 0.9688 - val_loss: 0.1892 - val_acc: 0.9360\n",
      "Epoch 13/15\n",
      "90/90 [==============================] - 17s 185ms/step - loss: 0.0762 - acc: 0.9755 - val_loss: 0.2437 - val_acc: 0.9480\n",
      "Epoch 14/15\n",
      "90/90 [==============================] - 17s 185ms/step - loss: 0.0776 - acc: 0.9722 - val_loss: 0.1224 - val_acc: 0.9540\n",
      "Epoch 15/15\n",
      "90/90 [==============================] - 17s 185ms/step - loss: 0.0794 - acc: 0.9722 - val_loss: 0.1603 - val_acc: 0.9440\n"
     ]
    }
   ],
   "source": [
    "from PIL import Image\n",
    "import scipy\n",
    "#begin model fitting, 30 epochs\n",
    "history = model.fit(train_generator,\n",
    "                             steps_per_epoch=90,\n",
    "                             epochs=15,\n",
    "                             validation_data=validation_generator,\n",
    "                             validation_steps=50)"
   ]
  },
  {
   "cell_type": "code",
   "execution_count": 14,
   "id": "635b4da2",
   "metadata": {},
   "outputs": [],
   "source": [
    "model.save('detect_diabetic_retinopathy_1.h5')"
   ]
  },
  {
   "cell_type": "code",
   "execution_count": 15,
   "id": "9ff4655e",
   "metadata": {},
   "outputs": [
    {
     "data": {
      "image/png": "[encoded data removed]",
      "text/plain": [
       "<Figure size 432x288 with 1 Axes>"
      ]
     },
     "metadata": {
      "needs_background": "light"
     },
     "output_type": "display_data"
    },
    {
     "data": {
      "image/png": "[encoded data removed]",
      "text/plain": [
       "<Figure size 432x288 with 1 Axes>"
      ]
     },
     "metadata": {
      "needs_background": "light"
     },
     "output_type": "display_data"
    }
   ],
   "source": [
    "import matplotlib.pyplot as plt\n",
    "\n",
    "acc = history.history['acc'] #displaying curves of loss and accuracy during training using matplotlib\n",
    "val_acc = history.history['val_acc']\n",
    "loss = history.history['loss']\n",
    "val_loss = history.history['val_loss']\n",
    "\n",
    "epochs = range(1, len(acc) + 1)\n",
    "\n",
    "plt.plot(epochs, acc, 'bo', label='Training acc')\n",
    "plt.plot(epochs, val_acc, 'b', label='Validation acc')\n",
    "plt.title('Training and validation accuracy')\n",
    "plt.legend()\n",
    "\n",
    "plt.figure()\n",
    "\n",
    "plt.plot(epochs, loss, 'bo', label='Training loss')\n",
    "plt.plot(epochs, val_loss, 'b', label='Validation loss')\n",
    "plt.title('Training and validation loss')\n",
    "plt.legend()\n",
    "\n",
    "plt.show()"
   ]
  },
  {
   "cell_type": "code",
   "execution_count": null,
   "id": "9f29456b",
   "metadata": {},
   "outputs": [],
   "source": []
  }
 ],
 "metadata": {
  "kernelspec": {
   "display_name": "Python 3 (ipykernel)",
   "language": "python",
   "name": "python3"
  },
  "language_info": {
   "codemirror_mode": {
    "name": "ipython",
    "version": 3
   },
   "file_extension": ".py",
   "mimetype": "text/x-python",
   "name": "python",
   "nbconvert_exporter": "python",
   "pygments_lexer": "ipython3",
   "version": "3.10.5"
  }
 },
 "nbformat": 4,
 "nbformat_minor": 5
}
